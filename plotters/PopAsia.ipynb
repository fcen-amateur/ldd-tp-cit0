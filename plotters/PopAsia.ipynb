{
 "cells": [
  {
   "cell_type": "code",
   "execution_count": 38,
   "id": "ba044b0d-455d-48a8-bd80-71a0a498fc70",
   "metadata": {},
   "outputs": [],
   "source": [
    "import seaborn.objects as so\n",
    "from gapminder import gapminder\n",
    "\n",
    "\n",
    "def plot():\n",
    "    figura = (\n",
    "        so.Plot(\n",
    "            gapminder[gapminder.continent == \"Asia\"],\n",
    "            x=\"year\",\n",
    "            y=\"pop\",\n",
    "            color=\"country\",\n",
    "        )\n",
    "        .add(so.Line())\n",
    "        .label(\n",
    "            title=\"Poblacion Asia\",\n",
    "            x=\"Año\",\n",
    "            y=\"Poblacion\",\n",
    "            color=\"País\",\n",
    "        )\n",
    "    )\n",
    "    return dict(\n",
    "        descripcion=\"Poblacion de los paises de Asia a lo largo del tiempo\",\n",
    "        autor=\"Bautista Berardi\",\n",
    "        figura=figura,\n",
    "    )"
   ]
  },
  {
   "cell_type": "code",
   "execution_count": null,
   "id": "d2afe2be-98f7-47db-99cf-d96f1d3c7e02",
   "metadata": {},
   "outputs": [],
   "source": []
  }
 ],
 "metadata": {
  "kernelspec": {
   "display_name": "Python 3 (ipykernel)",
   "language": "python",
   "name": "python3"
  },
  "language_info": {
   "codemirror_mode": {
    "name": "ipython",
    "version": 3
   },
   "file_extension": ".py",
   "mimetype": "text/x-python",
   "name": "python",
   "nbconvert_exporter": "python",
   "pygments_lexer": "ipython3",
   "version": "3.11.7"
  }
 },
 "nbformat": 4,
 "nbformat_minor": 5
}
