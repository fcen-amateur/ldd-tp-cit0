{
 "cells": [
  {
   "cell_type": "code",
   "execution_count": 87,
   "id": "9524ec03-37b7-4eef-80fc-3eb65bc6b737",
   "metadata": {},
   "outputs": [
    {
     "data": {
      "text/plain": [
       "{'descripcion': 'Un grafico que muestra la relación entre el PBI per capita y la esperanza de vida',\n",
       " 'autor': 'Mauricio Boscolo',\n",
       " 'figura': <seaborn._core.plot.Plot at 0x26dfd69a900>}"
      ]
     },
     "execution_count": 87,
     "metadata": {},
     "output_type": "execute_result"
    }
   ],
   "source": [
    "import seaborn.objects as so\n",
    "from gapminder import gapminder\n",
    "\n",
    "\n",
    "def plot():\n",
    "    datos_year = gapminder[(gapminder['year'] == 2007)]\n",
    "    figura = (\n",
    "        so.Plot(data=datos_year, x = 'lifeExp', y = 'gdpPercap')\n",
    "        .add(so.Dot(), color = 'continent')\n",
    "        .label(\n",
    "            title=\"Datos del año 2007\",\n",
    "            x=\"Esperanza de vida\",\n",
    "            y=\"PBI per Capita\",\n",
    "    )\n",
    ")\n",
    "\n",
    "    return dict(\n",
    "        descripcion=\"Un grafico que muestra la relación entre el PBI per capita y la esperanza de vida\",\n",
    "        autor=\"Mauricio Boscolo\",\n",
    "        figura=figura.limit(x=(30,90)),\n",
    "    )\n",
    "plot()"
   ]
  }
 ],
 "metadata": {
  "kernelspec": {
   "display_name": "Python 3 (ipykernel)",
   "language": "python",
   "name": "python3"
  },
  "language_info": {
   "codemirror_mode": {
    "name": "ipython",
    "version": 3
   },
   "file_extension": ".py",
   "mimetype": "text/x-python",
   "name": "python",
   "nbconvert_exporter": "python",
   "pygments_lexer": "ipython3",
   "version": "3.12.1"
  }
 },
 "nbformat": 4,
 "nbformat_minor": 5
}
